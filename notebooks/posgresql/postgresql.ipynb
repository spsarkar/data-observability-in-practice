{
 "cells": [
  {
   "cell_type": "code",
   "execution_count": 6,
   "metadata": {},
   "outputs": [],
   "source": [
    "import psycopg2\n",
    "from psycopg2 import sql\n",
    "from datetime import datetime, timedelta\n",
    "\n",
    "# Database connection parameters\n",
    "db_params = {\n",
    "    'dbname': 'postgres',\n",
    "    'user': 'postgres',\n",
    "    'password': 'mysecretpassword',\n",
    "    'host': 'localhost',\n",
    "    'port': '5432'\n",
    "}\n",
    "\n",
    "# Connect to the PostgreSQL database\n",
    "conn = psycopg2.connect(**db_params)\n",
    "cursor = conn.cursor()"
   ]
  },
  {
   "cell_type": "code",
   "execution_count": 7,
   "metadata": {},
   "outputs": [
    {
     "data": {
      "image/png": "[encoded data removed]",
      "text/plain": [
       "<Figure size 1000x500 with 1 Axes>"
      ]
     },
     "metadata": {},
     "output_type": "display_data"
    }
   ],
   "source": [
    "import psycopg2\n",
    "import matplotlib.pyplot as plt\n",
    "import matplotlib.dates as mdates\n",
    "from datetime import datetime\n",
    "\n",
    "# Query to get the commit timestamps of updates in the 'public.tracking' table\n",
    "query = \"\"\"\n",
    "SELECT pg_xact_commit_timestamp(xmin), * FROM public.tracking;\n",
    "\"\"\"\n",
    "\n",
    "# Execute the query\n",
    "cursor.execute(query)\n",
    "\n",
    "# Fetch all the results\n",
    "results = cursor.fetchall()\n",
    "\n",
    "# Close the cursor and the connection\n",
    "cursor.close()\n",
    "conn.close()\n",
    "\n",
    "# Extract timestamps and other data if needed\n",
    "timestamps = [result[0] for result in results if result[0] is not None]\n",
    "\n",
    "# Plotting the time series graph\n",
    "plt.figure(figsize=(10, 5))\n",
    "plt.plot_date(timestamps, [1]*len(timestamps), linestyle='solid')\n",
    "\n",
    "# Formatting the plot\n",
    "plt.gca().xaxis.set_major_formatter(mdates.DateFormatter('%Y-%m-%d %H:%M:%S'))\n",
    "plt.gca().xaxis.set_major_locator(mdates.DayLocator())\n",
    "plt.gcf().autofmt_xdate() # Rotation\n",
    "plt.title('Update Timestamps for public.tracking Table')\n",
    "plt.xlabel('Timestamp')\n",
    "plt.ylabel('Updates')\n",
    "plt.tight_layout()\n",
    "\n",
    "# Show the plot\n",
    "plt.show()\n"
   ]
  },
  {
   "cell_type": "code",
   "execution_count": 8,
   "metadata": {},
   "outputs": [
    {
     "data": {
      "text/plain": [
       "[datetime.datetime(2024, 5, 4, 22, 1, 15, 770717, tzinfo=datetime.timezone.utc),\n",
       " datetime.datetime(2024, 5, 4, 22, 2, 8, 123692, tzinfo=datetime.timezone.utc),\n",
       " datetime.datetime(2024, 5, 5, 17, 13, 2, 92089, tzinfo=datetime.timezone.utc),\n",
       " datetime.datetime(2024, 5, 5, 17, 13, 7, 214737, tzinfo=datetime.timezone.utc),\n",
       " datetime.datetime(2024, 5, 5, 17, 13, 12, 570911, tzinfo=datetime.timezone.utc)]"
      ]
     },
     "execution_count": 8,
     "metadata": {},
     "output_type": "execute_result"
    }
   ],
   "source": [
    "timestamps"
   ]
  },
  {
   "cell_type": "code",
   "execution_count": 1,
   "metadata": {},
   "outputs": [
    {
     "name": "stdout",
     "output_type": "stream",
     "text": [
      "Error checking table artist: column \"last_updated\" does not exist\n",
      "LINE 1: SELECT MAX(last_updated) FROM \"artist\"\n",
      "                   ^\n",
      "\n",
      "Error checking table foo: current transaction is aborted, commands ignored until end of transaction block\n",
      "\n",
      "Error checking table genre: current transaction is aborted, commands ignored until end of transaction block\n",
      "\n",
      "Error checking table mediatype: current transaction is aborted, commands ignored until end of transaction block\n",
      "\n",
      "Error checking table playlist: current transaction is aborted, commands ignored until end of transaction block\n",
      "\n",
      "Error checking table sqlite_schema: current transaction is aborted, commands ignored until end of transaction block\n",
      "\n",
      "Error checking table album: current transaction is aborted, commands ignored until end of transaction block\n",
      "\n",
      "Error checking table employee: current transaction is aborted, commands ignored until end of transaction block\n",
      "\n",
      "Error checking table track: current transaction is aborted, commands ignored until end of transaction block\n",
      "\n",
      "Error checking table customer: current transaction is aborted, commands ignored until end of transaction block\n",
      "\n",
      "Error checking table invoice: current transaction is aborted, commands ignored until end of transaction block\n",
      "\n",
      "Error checking table invoiceline: current transaction is aborted, commands ignored until end of transaction block\n",
      "\n",
      "Error checking table playlisttrack: current transaction is aborted, commands ignored until end of transaction block\n",
      "\n"
     ]
    }
   ],
   "source": [
    "\n",
    "# Get the list of all tables you want to check\n",
    "cursor.execute(\"SELECT table_name FROM information_schema.tables WHERE table_schema='public'\")\n",
    "tables = cursor.fetchall()\n",
    "\n",
    "# Define the freshness threshold (e.g., 1 day)\n",
    "freshness_threshold = timedelta(days=1)\n",
    "\n",
    "# Current time\n",
    "now = datetime.now()\n",
    "\n",
    "# Check the freshness of each table\n",
    "for table in tables:\n",
    "    table_name = table[0]\n",
    "    try:\n",
    "        # Assuming the timestamp column is named 'last_updated'\n",
    "        query = sql.SQL(\"SELECT MAX(last_updated) FROM {}\").format(sql.Identifier(table_name))\n",
    "        cursor.execute(query)\n",
    "        last_updated = cursor.fetchone()[0]\n",
    "\n",
    "        # Calculate the time difference\n",
    "        if last_updated:\n",
    "            time_diff = now - last_updated\n",
    "            if time_diff > freshness_threshold:\n",
    "                print(f\"Table {table_name} is stale. Last updated {time_diff} ago.\")\n",
    "            else:\n",
    "                print(f\"Table {table_name} is fresh. Last updated {time_diff} ago.\")\n",
    "        else:\n",
    "            print(f\"Table {table_name} has no 'last_updated' records.\")\n",
    "\n",
    "    except psycopg2.Error as e:\n",
    "        print(f\"Error checking table {table_name}: {e}\")\n",
    "\n",
    "# Close the cursor and the connection\n",
    "cursor.close()\n",
    "conn.close()\n"
   ]
  },
  {
   "cell_type": "code",
   "execution_count": 9,
   "metadata": {},
   "outputs": [
    {
     "data": {
      "text/plain": [
       "[(datetime.datetime(2024, 5, 4, 22, 1, 15, 770717, tzinfo=datetime.timezone.utc),\n",
       "  1),\n",
       " (datetime.datetime(2024, 5, 4, 22, 2, 8, 123692, tzinfo=datetime.timezone.utc),\n",
       "  10),\n",
       " (datetime.datetime(2024, 5, 5, 17, 13, 2, 92089, tzinfo=datetime.timezone.utc),\n",
       "  3),\n",
       " (datetime.datetime(2024, 5, 5, 17, 13, 7, 214737, tzinfo=datetime.timezone.utc),\n",
       "  4),\n",
       " (datetime.datetime(2024, 5, 5, 17, 13, 12, 570911, tzinfo=datetime.timezone.utc),\n",
       "  5)]"
      ]
     },
     "execution_count": 9,
     "metadata": {},
     "output_type": "execute_result"
    }
   ],
   "source": [
    "results"
   ]
  },
  {
   "cell_type": "code",
   "execution_count": null,
   "metadata": {},
   "outputs": [],
   "source": []
  }
 ],
 "metadata": {
  "kernelspec": {
   "display_name": "Python 3 (ipykernel)",
   "language": "python",
   "name": "python3"
  },
  "language_info": {
   "codemirror_mode": {
    "name": "ipython",
    "version": 3
   },
   "file_extension": ".py",
   "mimetype": "text/x-python",
   "name": "python",
   "nbconvert_exporter": "python",
   "pygments_lexer": "ipython3",
   "version": "3.10.11"
  }
 },
 "nbformat": 4,
 "nbformat_minor": 4
}
